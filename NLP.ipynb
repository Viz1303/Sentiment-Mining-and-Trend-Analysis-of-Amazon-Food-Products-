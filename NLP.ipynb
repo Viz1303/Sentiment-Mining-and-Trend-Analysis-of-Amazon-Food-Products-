{
 "cells": [
  {
   "cell_type": "markdown",
   "id": "fedd2336",
   "metadata": {},
   "source": [
    "### Sentiment Mining and Trend Analysis of Amazon Food Products — Identifying Product Perception Patterns Over Time"
   ]
  },
  {
   "cell_type": "code",
   "execution_count": 2,
   "id": "598eb8ee",
   "metadata": {},
   "outputs": [
    {
     "name": "stdout",
     "output_type": "stream",
     "text": [
      "shape of the dataset: (568454, 10)\n",
      "First few rows:\n",
      "   Id   ProductId          UserId                      ProfileName  \\\n",
      "0   1  B001E4KFG0  A3SGXH7AUHU8GW                       delmartian   \n",
      "1   2  B00813GRG4  A1D87F6ZCVE5NK                           dll pa   \n",
      "2   3  B000LQOCH0   ABXLMWJIXXAIN  Natalia Corres \"Natalia Corres\"   \n",
      "3   4  B000UA0QIQ  A395BORC6FGVXV                             Karl   \n",
      "4   5  B006K2ZZ7K  A1UQRSCLF8GW1T    Michael D. Bigham \"M. Wassir\"   \n",
      "\n",
      "   HelpfulnessNumerator  HelpfulnessDenominator  Score        Time  \\\n",
      "0                     1                       1      5  1303862400   \n",
      "1                     0                       0      1  1346976000   \n",
      "2                     1                       1      4  1219017600   \n",
      "3                     3                       3      2  1307923200   \n",
      "4                     0                       0      5  1350777600   \n",
      "\n",
      "                 Summary                                               Text  \n",
      "0  Good Quality Dog Food  I have bought several of the Vitality canned d...  \n",
      "1      Not as Advertised  Product arrived labeled as Jumbo Salted Peanut...  \n",
      "2  \"Delight\" says it all  This is a confection that has been around a fe...  \n",
      "3         Cough Medicine  If you are looking for the secret ingredient i...  \n",
      "4            Great taffy  Great taffy at a great price.  There was a wid...  \n"
     ]
    }
   ],
   "source": [
    "# Loading the data \n",
    "\n",
    "import pandas as pd \n",
    "\n",
    "file_path = '/Users/viz/Documents/Projects/NLP Amazon fine food review /Amazon Fine Food Reviews/Reviews.csv'\n",
    "df = pd.read_csv(file_path)\n",
    "\n",
    "print(\"shape of the dataset:\", df.shape)\n",
    "print(\"First few rows:\")\n",
    "print(df.head())\n"
   ]
  },
  {
   "cell_type": "markdown",
   "id": "de54fdfc",
   "metadata": {},
   "source": [
    "### EDA & Cleaning"
   ]
  },
  {
   "cell_type": "code",
   "execution_count": 3,
   "id": "09242789",
   "metadata": {},
   "outputs": [
    {
     "name": "stdout",
     "output_type": "stream",
     "text": [
      "Index(['Id', 'ProductId', 'UserId', 'ProfileName', 'HelpfulnessNumerator',\n",
      "       'HelpfulnessDenominator', 'Score', 'Time', 'Summary', 'Text'],\n",
      "      dtype='object')\n",
      "Id                         int64\n",
      "ProductId                 object\n",
      "UserId                    object\n",
      "ProfileName               object\n",
      "HelpfulnessNumerator       int64\n",
      "HelpfulnessDenominator     int64\n",
      "Score                      int64\n",
      "Time                       int64\n",
      "Summary                   object\n",
      "Text                      object\n",
      "dtype: object\n",
      "   Id   ProductId          UserId                      ProfileName  \\\n",
      "0   1  B001E4KFG0  A3SGXH7AUHU8GW                       delmartian   \n",
      "1   2  B00813GRG4  A1D87F6ZCVE5NK                           dll pa   \n",
      "2   3  B000LQOCH0   ABXLMWJIXXAIN  Natalia Corres \"Natalia Corres\"   \n",
      "\n",
      "   HelpfulnessNumerator  HelpfulnessDenominator  Score        Time  \\\n",
      "0                     1                       1      5  1303862400   \n",
      "1                     0                       0      1  1346976000   \n",
      "2                     1                       1      4  1219017600   \n",
      "\n",
      "                 Summary                                               Text  \n",
      "0  Good Quality Dog Food  I have bought several of the Vitality canned d...  \n",
      "1      Not as Advertised  Product arrived labeled as Jumbo Salted Peanut...  \n",
      "2  \"Delight\" says it all  This is a confection that has been around a fe...  \n"
     ]
    }
   ],
   "source": [
    "## Data Overview\n",
    "\n",
    "print(df.columns)\n",
    "print(df.dtypes)\n",
    "print(df.head(3))"
   ]
  },
  {
   "cell_type": "code",
   "execution_count": 5,
   "id": "234f8d90",
   "metadata": {},
   "outputs": [
    {
     "name": "stdout",
     "output_type": "stream",
     "text": [
      "Date range: 1999-10-08 00:00:00 to 2012-10-26 00:00:00\n"
     ]
    }
   ],
   "source": [
    "## converting unix timestamps to datetime\n",
    "\n",
    "df['reviewTime'] = pd.to_datetime(df['Time'], unit='s')\n",
    "print('Date range:', df['reviewTime'].min(), \"to\", df['reviewTime'].max())"
   ]
  },
  {
   "cell_type": "code",
   "execution_count": 6,
   "id": "49568a84",
   "metadata": {},
   "outputs": [
    {
     "name": "stdout",
     "output_type": "stream",
     "text": [
      "Missing values:\n",
      " Score          0\n",
      "Summary       27\n",
      "Text           0\n",
      "reviewTime     0\n",
      "dtype: int64\n"
     ]
    }
   ],
   "source": [
    "### Checking missing values\n",
    "\n",
    "missing = df[['Score', 'Summary', 'Text', 'reviewTime']].isnull().sum()\n",
    "print(\"Missing values:\\n\", missing)\n"
   ]
  },
  {
   "cell_type": "code",
   "execution_count": 7,
   "id": "81b724fb",
   "metadata": {},
   "outputs": [
    {
     "name": "stdout",
     "output_type": "stream",
     "text": [
      "Rows dropped (missing Text/Score): 0\n",
      "Duplicates removed: 1309\n",
      "Rating distribution (1–5):\n",
      " Score\n",
      "1     51965\n",
      "2     29753\n",
      "3     42558\n",
      "4     80550\n",
      "5    362319\n",
      "Name: count, dtype: int64\n"
     ]
    }
   ],
   "source": [
    "df['Summary'] = df['Summary'].fillna('')\n",
    "\n",
    "#Drop rows missing Text or Score (just in case)\n",
    "before_drop = df.shape[0]\n",
    "df = df.dropna(subset=['Text','Score'])\n",
    "after_drop = df.shape[0]\n",
    "print(\"Rows dropped (missing Text/Score):\", before_drop - after_drop)\n",
    "\n",
    "#Remove exact duplicates\n",
    "before_dup = df.shape[0]\n",
    "df = df.drop_duplicates(subset=['UserId','ProductId','Text'])\n",
    "after_dup = df.shape[0]\n",
    "print(\"Duplicates removed:\", before_dup - after_dup)\n",
    "\n",
    "#Rating distribution\n",
    "rating_counts = df['Score'].value_counts().sort_index()\n",
    "print(\"Rating distribution (1–5):\\n\", rating_counts)\n"
   ]
  },
  {
   "cell_type": "markdown",
   "id": "8b466230",
   "metadata": {},
   "source": [
    "### Sentiment Scoring & Trend Analysis"
   ]
  },
  {
   "cell_type": "code",
   "execution_count": 9,
   "id": "4f5ac072",
   "metadata": {},
   "outputs": [
    {
     "name": "stderr",
     "output_type": "stream",
     "text": [
      "[nltk_data] Downloading package vader_lexicon to\n",
      "[nltk_data]     /Users/viz/nltk_data...\n",
      "[nltk_data]   Package vader_lexicon is already up-to-date!\n"
     ]
    }
   ],
   "source": [
    "import nltk \n",
    "nltk.download('vader_lexicon')\n",
    "\n",
    "from nltk.sentiment.vader import SentimentIntensityAnalyzer\n",
    "sid = SentimentIntensityAnalyzer()\n"
   ]
  },
  {
   "cell_type": "code",
   "execution_count": 12,
   "id": "9bdc4d56",
   "metadata": {},
   "outputs": [
    {
     "name": "stdout",
     "output_type": "stream",
     "text": [
      "   Score                                               Text  sentiment_score\n",
      "0      5  I have bought several of the Vitality canned d...           0.9441\n",
      "1      1  Product arrived labeled as Jumbo Salted Peanut...          -0.5664\n",
      "2      4  This is a confection that has been around a fe...           0.8265\n",
      "3      2  If you are looking for the secret ingredient i...           0.0000\n",
      "4      5  Great taffy at a great price.  There was a wid...           0.9468\n"
     ]
    }
   ],
   "source": [
    "### Computing Sentiment Scores\n",
    "\n",
    "df['sentiment_score'] = df['Text'].apply(lambda x: sid.polarity_scores(x)['compound'])\n",
    "\n",
    "print(df[['Score','Text','sentiment_score']].head())"
   ]
  },
  {
   "cell_type": "code",
   "execution_count": 13,
   "id": "08a8cc2e",
   "metadata": {},
   "outputs": [
    {
     "name": "stdout",
     "output_type": "stream",
     "text": [
      "Average sentiment by star rating:\n",
      " Score\n",
      "1    0.035210\n",
      "2    0.272187\n",
      "3    0.482950\n",
      "4    0.704553\n",
      "5    0.772384\n",
      "Name: sentiment_score, dtype: float64\n"
     ]
    }
   ],
   "source": [
    "### validating Sentiment vs Star Rating\n",
    "\n",
    "avg_by_rating = df.groupby('Score')['sentiment_score'].mean().sort_index()\n",
    "print(\"Average sentiment by star rating:\\n\", avg_by_rating)"
   ]
  },
  {
   "cell_type": "markdown",
   "id": "37853850",
   "metadata": {},
   "source": [
    "### Trend Visualization & Outlier Detection"
   ]
  },
  {
   "cell_type": "code",
   "execution_count": 14,
   "id": "202924e7",
   "metadata": {},
   "outputs": [
    {
     "name": "stderr",
     "output_type": "stream",
     "text": [
      "Matplotlib is building the font cache; this may take a moment.\n"
     ]
    }
   ],
   "source": [
    "import matplotlib.pyplot as plt "
   ]
  },
  {
   "cell_type": "code",
   "execution_count": 17,
   "id": "241afd04",
   "metadata": {},
   "outputs": [
    {
     "name": "stderr",
     "output_type": "stream",
     "text": [
      "/var/folders/79/6646lb6j6lq8cybcqz7_wj200000gn/T/ipykernel_13717/667513881.py:5: FutureWarning: 'M' is deprecated and will be removed in a future version, please use 'ME' instead.\n",
      "  .groupby(pd.Grouper(key='reviewTime', freq='M'))['sentiment_score']\n"
     ]
    },
    {
     "data": {
      "image/png": "[encoded data removed]",
      "text/plain": [
       "<Figure size 1200x500 with 1 Axes>"
      ]
     },
     "metadata": {},
     "output_type": "display_data"
    }
   ],
   "source": [
    "### Plotting Monthly Average Sentiment \n",
    "# Group by month directly\n",
    "monthly_sentiment = (\n",
    "    df\n",
    "    .groupby(pd.Grouper(key='reviewTime', freq='M'))['sentiment_score']\n",
    "    .mean()\n",
    ")\n",
    "\n",
    "# Plot\n",
    "plt.figure(figsize=(12,5))\n",
    "plt.plot(monthly_sentiment.index, monthly_sentiment.values, marker='o')\n",
    "plt.title(\"Average Review Sentiment Over Time\")\n",
    "plt.xlabel(\"Month\")\n",
    "plt.ylabel(\"Mean Compound Sentiment\")\n",
    "plt.xticks(rotation=45)\n",
    "plt.tight_layout()\n",
    "plt.show()\n",
    "\n"
   ]
  },
  {
   "cell_type": "code",
   "execution_count": 18,
   "id": "0ee429e6",
   "metadata": {},
   "outputs": [
    {
     "name": "stdout",
     "output_type": "stream",
     "text": [
      "Spikes:\n",
      " reviewTime\n",
      "2001-10-31    0.951067\n",
      "2000-02-29    0.574888\n",
      "2002-08-31    0.501650\n",
      "2004-06-30    0.490307\n",
      "2000-07-31    0.371420\n",
      "Name: sentiment_score, dtype: float64\n",
      "Dips:\n",
      " reviewTime\n",
      "2001-09-30   -0.800000\n",
      "2002-07-31   -0.500750\n",
      "2000-01-31   -0.500437\n",
      "2003-10-31   -0.424482\n",
      "2004-05-31   -0.412631\n",
      "Name: sentiment_score, dtype: float64\n"
     ]
    }
   ],
   "source": [
    "# Month-over-month changes\n",
    "monthly_diff = monthly_sentiment.diff()\n",
    "\n",
    "# Top 5 spikes & dips\n",
    "print(\"Spikes:\\n\", monthly_diff.nlargest(5))\n",
    "print(\"Dips:\\n\", monthly_diff.nsmallest(5))\n"
   ]
  },
  {
   "cell_type": "code",
   "execution_count": 27,
   "id": "3265c465",
   "metadata": {},
   "outputs": [
    {
     "name": "stdout",
     "output_type": "stream",
     "text": [
      "2001-09 count: reviewTime\n",
      "2001-09-30    3\n",
      "Freq: ME, Name: sentiment_score, dtype: int64\n",
      "2001-10 count: reviewTime\n",
      "2001-10-31    3\n",
      "Freq: ME, Name: sentiment_score, dtype: int64\n",
      "2002-07 count: reviewTime\n",
      "2002-07-31    4\n",
      "Freq: ME, Name: sentiment_score, dtype: int64\n"
     ]
    }
   ],
   "source": [
    "### Checking monthly review counts to confirm the initial noise in spikes and dips\n",
    "\n",
    "# Print the counts for September, October 2001 and July 2002\n",
    "print(\"2001-09 count:\", monthly_counts['2001-09'])\n",
    "print(\"2001-10 count:\", monthly_counts['2001-10'])\n",
    "print(\"2002-07 count:\", monthly_counts['2002-07'])\n"
   ]
  },
  {
   "cell_type": "code",
   "execution_count": 28,
   "id": "8a7840fc",
   "metadata": {},
   "outputs": [
    {
     "name": "stdout",
     "output_type": "stream",
     "text": [
      "reviewTime\n",
      "2001-09    3\n",
      "2001-10    3\n",
      "2002-07    4\n",
      "Freq: M, Name: sentiment_score, dtype: int64\n"
     ]
    }
   ],
   "source": [
    "# Turn the DatetimeIndex into a PeriodIndex (year-month)\n",
    "monthly_counts_period = monthly_counts.copy()\n",
    "monthly_counts_period.index = monthly_counts_period.index.to_period('M')\n",
    "\n",
    "# Now you can .loc a list of period strings\n",
    "print(monthly_counts_period.loc[['2001-09', '2001-10', '2002-07']])\n"
   ]
  },
  {
   "cell_type": "code",
   "execution_count": null,
   "id": "b21776fb",
   "metadata": {},
   "outputs": [],
   "source": []
  }
 ],
 "metadata": {
  "kernelspec": {
   "display_name": ".venv",
   "language": "python",
   "name": "python3"
  },
  "language_info": {
   "codemirror_mode": {
    "name": "ipython",
    "version": 3
   },
   "file_extension": ".py",
   "mimetype": "text/x-python",
   "name": "python",
   "nbconvert_exporter": "python",
   "pygments_lexer": "ipython3",
   "version": "3.11.4"
  }
 },
 "nbformat": 4,
 "nbformat_minor": 5
}
